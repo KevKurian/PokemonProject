{
 "cells": [
  {
   "cell_type": "markdown",
   "id": "e292632d",
   "metadata": {},
   "source": [
    "# Pokemon EDA\n",
    "\n",
    "The data comes from https://www.kaggle.com/datasets/abcsds/pokemon. This dataset features pokemon from the first 6 generations.\n",
    "\n",
    "Below are the descriptions for each of the columns:\n",
    "\n",
    "- **#**: ID for each pokemon\n",
    "- **Name**: Name of each pokemon\n",
    "- **Type 1**: Each pokemon has a type, this determines weakness/resistance to attacks\n",
    "- **Type 2**: Some pokemon are dual type and have 2\n",
    "- **Total**: sum of all stats that come after this, a general guide to how strong a pokemon is\n",
    "- **HP**: hit points, or health, defines how much damage a pokemon can withstand before fainting\n",
    "- **Attack**: the base modifier for normal attacks (eg. Scratch, Punch)\n",
    "- **Defense**: the base damage resistance against normal attacks\n",
    "- **SP Atk**: special attack, the base modifier for special attacks (e.g. fire blast, bubble beam)\n",
    "- **SP Def**: the base damage resistance against special attacks\n",
    "- **Speed**: determines which pokemon attacks first each round"
   ]
  },
  {
   "cell_type": "code",
   "execution_count": null,
   "id": "a66790ea",
   "metadata": {},
   "outputs": [],
   "source": [
    "import matplotlib.pyplot as plt\n",
    "import numpy as np\n",
    "import pandas as pd\n",
    "import plotly.express as px\n",
    "import seaborn as sns\n",
    "\n",
    "stats = [\"HP\", \"Attack\", \"Defense\", \"Sp. Atk\", \"Sp. Def\", \"Speed\"]"
   ]
  },
  {
   "cell_type": "code",
   "execution_count": null,
   "id": "07beab0a",
   "metadata": {},
   "outputs": [],
   "source": [
    "df = pd.read_csv(\"Pokemon.csv\")\n",
    "df"
   ]
  },
  {
   "cell_type": "markdown",
   "id": "f935f744",
   "metadata": {},
   "source": [
    "From above, we can see that this dataset also includes mega variants. Some other pokemon have other variants. For example, Hoopa has 2 forms: confined form, which is the default, and unbound form."
   ]
  },
  {
   "cell_type": "code",
   "execution_count": null,
   "id": "7ae9503e",
   "metadata": {},
   "outputs": [],
   "source": [
    "df[df.Name.str.contains(\"Mega\")]"
   ]
  },
  {
   "cell_type": "code",
   "execution_count": null,
   "id": "914ec34a",
   "metadata": {},
   "outputs": [],
   "source": [
    "df.dtypes"
   ]
  },
  {
   "cell_type": "code",
   "execution_count": null,
   "id": "f2b94ddc",
   "metadata": {},
   "outputs": [],
   "source": [
    "df.describe()"
   ]
  },
  {
   "cell_type": "code",
   "execution_count": null,
   "id": "0dd53b17",
   "metadata": {},
   "outputs": [],
   "source": [
    "sns.pairplot(df[stats + [\"Legendary\"]], hue=\"Legendary\")"
   ]
  },
  {
   "cell_type": "code",
   "execution_count": null,
   "id": "d86a0474",
   "metadata": {},
   "outputs": [],
   "source": [
    "sns.pairplot(df[stats + [\"Total\", \"Legendary\"]], hue=\"Legendary\")"
   ]
  },
  {
   "cell_type": "code",
   "execution_count": null,
   "id": "ce603f35",
   "metadata": {},
   "outputs": [],
   "source": [
    "sns.pairplot(df[stats + [\"Generation\"]], hue=\"Generation\", palette=\"tab10\")"
   ]
  },
  {
   "cell_type": "code",
   "execution_count": null,
   "id": "5a2c250f",
   "metadata": {},
   "outputs": [],
   "source": [
    "fig = px.treemap(df[\"Type 1\"])\n",
    "fig.show()"
   ]
  },
  {
   "cell_type": "code",
   "execution_count": null,
   "id": "eca4c396",
   "metadata": {},
   "outputs": [],
   "source": []
  },
  {
   "cell_type": "code",
   "execution_count": null,
   "id": "292c8ce9",
   "metadata": {},
   "outputs": [],
   "source": []
  },
  {
   "cell_type": "code",
   "execution_count": null,
   "id": "0cb25858",
   "metadata": {},
   "outputs": [],
   "source": []
  },
  {
   "cell_type": "code",
   "execution_count": null,
   "id": "293f6ac8",
   "metadata": {},
   "outputs": [],
   "source": [
    "# Normalize the stats\n",
    "# https://pandas.pydata.org/pandas-docs/stable/user_guide/basics.html#matching-broadcasting-behavior\n",
    "df_normalized = df.copy()\n",
    "df_normalized[stats] = df_normalized[stats].div(df[\"Total\"], axis=0)\n",
    "df_normalized"
   ]
  },
  {
   "cell_type": "code",
   "execution_count": null,
   "id": "be304916",
   "metadata": {},
   "outputs": [],
   "source": [
    "sns.pairplot(df_normalized[stats + [\"Total\", \"Legendary\"]], hue=\"Legendary\")"
   ]
  },
  {
   "cell_type": "code",
   "execution_count": null,
   "id": "d9d31321",
   "metadata": {},
   "outputs": [],
   "source": [
    "from pandas.plotting import scatter_matrix"
   ]
  },
  {
   "cell_type": "code",
   "execution_count": null,
   "id": "6fd53d83",
   "metadata": {},
   "outputs": [],
   "source": [
    "scatter_matrix(df_normalized[stats], figsize=(12, 12))"
   ]
  },
  {
   "cell_type": "code",
   "execution_count": null,
   "id": "74e98b2c",
   "metadata": {},
   "outputs": [],
   "source": []
  }
 ],
 "metadata": {
  "kernelspec": {
   "display_name": "Python 3 (ipykernel)",
   "language": "python",
   "name": "python3"
  },
  "language_info": {
   "codemirror_mode": {
    "name": "ipython",
    "version": 3
   },
   "file_extension": ".py",
   "mimetype": "text/x-python",
   "name": "python",
   "nbconvert_exporter": "python",
   "pygments_lexer": "ipython3",
   "version": "3.9.7"
  }
 },
 "nbformat": 4,
 "nbformat_minor": 5
}
